{
 "cells": [
  {
   "cell_type": "code",
   "execution_count": 6,
   "id": "54966ee2-daa3-49f3-b899-2aea354ed355",
   "metadata": {},
   "outputs": [],
   "source": [
    "a =10"
   ]
  },
  {
   "cell_type": "code",
   "execution_count": 7,
   "id": "126d31cd-ceef-442f-b3b4-f19fdd5d138b",
   "metadata": {},
   "outputs": [
    {
     "data": {
      "text/plain": [
       "10"
      ]
     },
     "execution_count": 7,
     "metadata": {},
     "output_type": "execute_result"
    }
   ],
   "source": [
    "a"
   ]
  },
  {
   "cell_type": "code",
   "execution_count": 8,
   "id": "adfd7f40-8474-4e90-84e9-a53323626a38",
   "metadata": {},
   "outputs": [
    {
     "name": "stdout",
     "output_type": "stream",
     "text": [
      "10\n"
     ]
    }
   ],
   "source": [
    "print(a)"
   ]
  },
  {
   "cell_type": "code",
   "execution_count": 9,
   "id": "ad7b4fab-108d-4250-8e85-fd44f09aca55",
   "metadata": {},
   "outputs": [
    {
     "name": "stdout",
     "output_type": "stream",
     "text": [
      "10\n"
     ]
    }
   ],
   "source": [
    "print(a)"
   ]
  },
  {
   "cell_type": "code",
   "execution_count": 10,
   "id": "9c6b9d1b-d80e-47fb-974f-4547afb3a047",
   "metadata": {},
   "outputs": [
    {
     "data": {
      "text/plain": [
       "2"
      ]
     },
     "execution_count": 10,
     "metadata": {},
     "output_type": "execute_result"
    }
   ],
   "source": [
    "1+1"
   ]
  },
  {
   "cell_type": "code",
   "execution_count": 11,
   "id": "62e42593-8ddb-418a-a143-f994fd510177",
   "metadata": {},
   "outputs": [
    {
     "data": {
      "text/plain": [
       "12"
      ]
     },
     "execution_count": 11,
     "metadata": {},
     "output_type": "execute_result"
    }
   ],
   "source": [
    "\"\"\"\n",
    "This is\n",
    "\"\"\"\n",
    "s=12\n",
    "s"
   ]
  },
  {
   "cell_type": "code",
   "execution_count": 12,
   "id": "b42e11e3-de2b-4be0-8ea8-1c32c0b35edd",
   "metadata": {},
   "outputs": [
    {
     "data": {
      "text/plain": [
       "14"
      ]
     },
     "execution_count": 12,
     "metadata": {},
     "output_type": "execute_result"
    }
   ],
   "source": [
    "s=14\n",
    "s"
   ]
  },
  {
   "cell_type": "code",
   "execution_count": 13,
   "id": "11c4a20d-2ec6-49ff-8383-eb6e66ab2cc3",
   "metadata": {},
   "outputs": [
    {
     "name": "stdout",
     "output_type": "stream",
     "text": [
      "Hello World\n"
     ]
    }
   ],
   "source": [
    "print(\"Hello World\")"
   ]
  },
  {
   "cell_type": "code",
   "execution_count": 14,
   "id": "c9cfce66-6c29-442d-b9fb-716180558736",
   "metadata": {},
   "outputs": [
    {
     "name": "stdout",
     "output_type": "stream",
     "text": [
      "Hello my Name is Saurabh &  Iam a Data Scientist\n"
     ]
    }
   ],
   "source": [
    "print(\"Hello my Name is Saurabh &  Iam a Data Scientist\")"
   ]
  },
  {
   "cell_type": "markdown",
   "id": "308ac52b-2f8a-4e2e-bf21-e1cee791b6c2",
   "metadata": {},
   "source": [
    "## Variable Assignment"
   ]
  },
  {
   "cell_type": "code",
   "execution_count": 15,
   "id": "24fe9b2c-8aa0-42cc-82fc-ca83ff72d825",
   "metadata": {},
   "outputs": [],
   "source": [
    "name = 'Saurabh'\n",
    "company = \"ineuron and   Accenture\""
   ]
  },
  {
   "cell_type": "code",
   "execution_count": 9,
   "id": "f0057122-a883-4369-a832-f5d095fdc80a",
   "metadata": {},
   "outputs": [
    {
     "data": {
      "text/html": [
       "<span style=white-space:pre-wrap>'ineuron and   Accenture'</span>"
      ],
      "text/latex": [
       "'ineuron and   Accenture'"
      ],
      "text/markdown": [
       "<span style=white-space:pre-wrap>'ineuron and   Accenture'</span>"
      ],
      "text/plain": [
       "[1] \"ineuron and   Accenture\""
      ]
     },
     "metadata": {},
     "output_type": "display_data"
    }
   ],
   "source": [
    "company"
   ]
  },
  {
   "cell_type": "code",
   "execution_count": 2,
   "id": "6e2300ec-5c3c-4855-8589-128273b72646",
   "metadata": {},
   "outputs": [],
   "source": [
    "number = 10"
   ]
  },
  {
   "cell_type": "code",
   "execution_count": 3,
   "id": "9bf965f9-663a-4abb-aaac-fba135014a88",
   "metadata": {},
   "outputs": [
    {
     "data": {
      "text/plain": [
       "10"
      ]
     },
     "execution_count": 3,
     "metadata": {},
     "output_type": "execute_result"
    }
   ],
   "source": [
    "number"
   ]
  },
  {
   "cell_type": "code",
   "execution_count": 4,
   "id": "8cac035e-2037-4c89-bf98-893fe63cd64f",
   "metadata": {},
   "outputs": [
    {
     "data": {
      "text/plain": [
       "int"
      ]
     },
     "execution_count": 4,
     "metadata": {},
     "output_type": "execute_result"
    }
   ],
   "source": [
    "type(number)"
   ]
  },
  {
   "cell_type": "code",
   "execution_count": 16,
   "id": "3140d0ff-8eb0-4916-98ec-16c75add44bd",
   "metadata": {},
   "outputs": [
    {
     "data": {
      "text/plain": [
       "'ineuron and   Accenture'"
      ]
     },
     "execution_count": 16,
     "metadata": {},
     "output_type": "execute_result"
    }
   ],
   "source": [
    "company"
   ]
  },
  {
   "cell_type": "code",
   "execution_count": 17,
   "id": "c97e15c9-53c0-4ec2-a95a-1889556cdb5f",
   "metadata": {},
   "outputs": [
    {
     "data": {
      "text/plain": [
       "str"
      ]
     },
     "execution_count": 17,
     "metadata": {},
     "output_type": "execute_result"
    }
   ],
   "source": [
    "type(company)"
   ]
  },
  {
   "cell_type": "code",
   "execution_count": 18,
   "id": "a5606295-7c0c-477e-afc7-4788e6c72210",
   "metadata": {},
   "outputs": [],
   "source": [
    "decimal_num = 2.5"
   ]
  },
  {
   "cell_type": "code",
   "execution_count": 19,
   "id": "579984f5-7cab-4955-be28-382e49e6f25f",
   "metadata": {},
   "outputs": [
    {
     "data": {
      "text/plain": [
       "2.5"
      ]
     },
     "execution_count": 19,
     "metadata": {},
     "output_type": "execute_result"
    }
   ],
   "source": [
    "decimal_num"
   ]
  },
  {
   "cell_type": "code",
   "execution_count": 20,
   "id": "6fbc5f88-add3-4232-bc5c-18e06e591df7",
   "metadata": {},
   "outputs": [
    {
     "data": {
      "text/plain": [
       "float"
      ]
     },
     "execution_count": 20,
     "metadata": {},
     "output_type": "execute_result"
    }
   ],
   "source": [
    "type(decimal_num)"
   ]
  },
  {
   "cell_type": "code",
   "execution_count": 21,
   "id": "7ba5e37a-176a-4c3c-b359-9ca4ff697091",
   "metadata": {},
   "outputs": [
    {
     "data": {
      "text/plain": [
       "str"
      ]
     },
     "execution_count": 21,
     "metadata": {},
     "output_type": "execute_result"
    }
   ],
   "source": [
    "type(\"hello\")"
   ]
  },
  {
   "cell_type": "code",
   "execution_count": 2,
   "id": "a1b76157-5eda-4a82-a0cc-8b7499effa1f",
   "metadata": {},
   "outputs": [
    {
     "data": {
      "text/plain": [
       "(1+2j)"
      ]
     },
     "execution_count": 2,
     "metadata": {},
     "output_type": "execute_result"
    }
   ],
   "source": [
    "x=1+2j\n",
    "x"
   ]
  },
  {
   "cell_type": "code",
   "execution_count": 3,
   "id": "79b4827b-289a-4854-a034-a02f3aa7dccb",
   "metadata": {},
   "outputs": [
    {
     "data": {
      "text/plain": [
       "complex"
      ]
     },
     "execution_count": 3,
     "metadata": {},
     "output_type": "execute_result"
    }
   ],
   "source": [
    "type(x)"
   ]
  },
  {
   "cell_type": "code",
   "execution_count": 1,
   "id": "8904d6b7-bada-4f2d-a332-77affa78cb45",
   "metadata": {},
   "outputs": [
    {
     "data": {
      "text/plain": [
       "(float, int, <function len(obj, /)>, complex, bool, str)"
      ]
     },
     "execution_count": 1,
     "metadata": {},
     "output_type": "execute_result"
    }
   ],
   "source": [
    "# Reserved keywords\n",
    "float,int, len, complex,bool,str,return,yield"
   ]
  },
  {
   "cell_type": "code",
   "execution_count": 2,
   "id": "4337c8a0-abc5-4ee5-850c-cd969f6b6d70",
   "metadata": {},
   "outputs": [
    {
     "data": {
      "text/plain": [
       "(True, False)"
      ]
     },
     "execution_count": 2,
     "metadata": {},
     "output_type": "execute_result"
    }
   ],
   "source": [
    "# Boolean\n",
    "True,False"
   ]
  },
  {
   "cell_type": "code",
   "execution_count": 3,
   "id": "76a1e99c-a489-4df8-b292-e55dcf0846f4",
   "metadata": {},
   "outputs": [
    {
     "data": {
      "text/plain": [
       "False"
      ]
     },
     "execution_count": 3,
     "metadata": {},
     "output_type": "execute_result"
    }
   ],
   "source": [
    "bool(0)"
   ]
  },
  {
   "cell_type": "code",
   "execution_count": 4,
   "id": "c341995d-9123-4a8f-943e-08a63e928517",
   "metadata": {},
   "outputs": [
    {
     "data": {
      "text/plain": [
       "True"
      ]
     },
     "execution_count": 4,
     "metadata": {},
     "output_type": "execute_result"
    }
   ],
   "source": [
    "bool(1)"
   ]
  },
  {
   "cell_type": "code",
   "execution_count": 6,
   "id": "163735f5-8a67-4dc9-9b12-bfe7e448344d",
   "metadata": {},
   "outputs": [
    {
     "name": "stdout",
     "output_type": "stream",
     "text": [
      "True\n"
     ]
    }
   ],
   "source": [
    "a=1\n",
    "if bool(a)==True:\n",
    "    print(\"True\")"
   ]
  },
  {
   "cell_type": "code",
   "execution_count": 14,
   "id": "11d1abe0-30bd-43f2-be38-2a18ce7afc4e",
   "metadata": {},
   "outputs": [
    {
     "data": {
      "text/plain": [
       "'23'"
      ]
     },
     "execution_count": 14,
     "metadata": {},
     "output_type": "execute_result"
    }
   ],
   "source": [
    "# Typecasting\n",
    "str(23)"
   ]
  },
  {
   "cell_type": "code",
   "execution_count": 16,
   "id": "897c141c-5999-4441-ac2b-4559ac195963",
   "metadata": {},
   "outputs": [
    {
     "data": {
      "text/plain": [
       "23"
      ]
     },
     "execution_count": 16,
     "metadata": {},
     "output_type": "execute_result"
    }
   ],
   "source": [
    "int('23')"
   ]
  },
  {
   "cell_type": "markdown",
   "id": "77d32bd5-c8e5-4715-bb68-845317e10840",
   "metadata": {},
   "source": [
    "# Dynamic Typing\n"
   ]
  },
  {
   "cell_type": "code",
   "execution_count": 20,
   "id": "e9de7a61-8cbe-4255-b131-bfe957722407",
   "metadata": {},
   "outputs": [],
   "source": [
    "a=12\n",
    "str1='krish'\n",
    "a=\"var\"\n"
   ]
  },
  {
   "cell_type": "code",
   "execution_count": 21,
   "id": "4cbb2e37-3761-452e-9ea2-f5adce78777d",
   "metadata": {},
   "outputs": [
    {
     "name": "stdout",
     "output_type": "stream",
     "text": [
      "<class 'str'>\n"
     ]
    }
   ],
   "source": [
    "print(type(a))"
   ]
  },
  {
   "cell_type": "code",
   "execution_count": 22,
   "id": "8107386d-d2a4-40f1-a468-8417ee2dfb0b",
   "metadata": {},
   "outputs": [
    {
     "data": {
      "text/plain": [
       "1"
      ]
     },
     "execution_count": 22,
     "metadata": {},
     "output_type": "execute_result"
    }
   ],
   "source": [
    "int(1.54)"
   ]
  },
  {
   "cell_type": "markdown",
   "id": "4d4651dd-1c6e-4ba0-ba5d-b539716b5d86",
   "metadata": {},
   "source": [
    "## concatenation between different types"
   ]
  },
  {
   "cell_type": "code",
   "execution_count": 23,
   "id": "61911c3f-9ed6-4850-b793-772a58c44632",
   "metadata": {},
   "outputs": [
    {
     "data": {
      "text/plain": [
       "2"
      ]
     },
     "execution_count": 23,
     "metadata": {},
     "output_type": "execute_result"
    }
   ],
   "source": [
    "int(\"1\") + int(\"1\")"
   ]
  },
  {
   "cell_type": "code",
   "execution_count": 24,
   "id": "817a1536-3d54-4f61-95b5-edf328e0621c",
   "metadata": {},
   "outputs": [
    {
     "data": {
      "text/plain": [
       "'1111111111111111111111111111111111111111111111111111111111111111111111111111111111111111111111111111'"
      ]
     },
     "execution_count": 24,
     "metadata": {},
     "output_type": "execute_result"
    }
   ],
   "source": [
    "\"1\" * 100"
   ]
  },
  {
   "cell_type": "code",
   "execution_count": null,
   "id": "644bf2dd-0f4f-4839-b529-2d91f54cd6b4",
   "metadata": {},
   "outputs": [],
   "source": []
  },
  {
   "cell_type": "code",
   "execution_count": null,
   "id": "c42b7ef7-1289-4156-bc54-6089338b4bee",
   "metadata": {},
   "outputs": [],
   "source": []
  },
  {
   "cell_type": "code",
   "execution_count": null,
   "id": "89fc58f2-9891-42fe-9e29-104d7a9f7136",
   "metadata": {},
   "outputs": [],
   "source": []
  },
  {
   "cell_type": "code",
   "execution_count": null,
   "id": "a13caacf-d6b5-467d-8d70-5e90c91734ee",
   "metadata": {},
   "outputs": [],
   "source": []
  },
  {
   "cell_type": "code",
   "execution_count": null,
   "id": "2f0fb7ad-b7ea-4a32-b015-1fdc69ae3c2a",
   "metadata": {},
   "outputs": [],
   "source": []
  },
  {
   "cell_type": "code",
   "execution_count": null,
   "id": "dae4a4ad-3c61-416a-a61c-1448ef892f71",
   "metadata": {},
   "outputs": [],
   "source": []
  },
  {
   "cell_type": "code",
   "execution_count": null,
   "id": "2e088098-c21d-40bb-97bb-b3717ffbf3da",
   "metadata": {},
   "outputs": [],
   "source": []
  }
 ],
 "metadata": {
  "kernelspec": {
   "display_name": "Python 3 (ipykernel)",
   "language": "python",
   "name": "python3"
  },
  "language_info": {
   "codemirror_mode": {
    "name": "ipython",
    "version": 3
   },
   "file_extension": ".py",
   "mimetype": "text/x-python",
   "name": "python",
   "nbconvert_exporter": "python",
   "pygments_lexer": "ipython3",
   "version": "3.10.8"
  }
 },
 "nbformat": 4,
 "nbformat_minor": 5
}
